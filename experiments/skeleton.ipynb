{
 "cells": [
  {
   "cell_type": "markdown",
   "metadata": {},
   "source": [
    "## This draft contains reading of database properly"
   ]
  },
  {
   "cell_type": "code",
   "execution_count": 91,
   "metadata": {
    "collapsed": true
   },
   "outputs": [],
   "source": [
    "%matplotlib inline"
   ]
  },
  {
   "cell_type": "code",
   "execution_count": 98,
   "metadata": {
    "collapsed": false
   },
   "outputs": [],
   "source": [
    "import re\n",
    "\n",
    "from os import walk\n",
    "from os.path import join\n",
    "\n",
    "import numpy as np\n",
    "\n",
    "from skimage.io import imread, imshow, show"
   ]
  },
  {
   "cell_type": "code",
   "execution_count": 77,
   "metadata": {
    "collapsed": false
   },
   "outputs": [],
   "source": [
    "# Read classes from file\n",
    "labels = np.genfromtxt('../classes.csv', delimiter=',', dtype=str)\n",
    "# because of space after comma we read redundant empty column\n",
    "labels = np.array([l[0] for l in labels])"
   ]
  },
  {
   "cell_type": "code",
   "execution_count": 78,
   "metadata": {
    "collapsed": false
   },
   "outputs": [],
   "source": [
    "data_path = \"../database/\"\n",
    "files = list()\n",
    "for (dirpath, dirnames, filenames) in walk(data_path):\n",
    "    files = filenames    "
   ]
  },
  {
   "cell_type": "code",
   "execution_count": 79,
   "metadata": {
    "collapsed": true
   },
   "outputs": [],
   "source": [
    "data_images = list()\n",
    "data_labels = list()\n",
    "label_from_name = r\"([a-zA-z]+)[-_]\\d+.pgm\""
   ]
  },
  {
   "cell_type": "code",
   "execution_count": 82,
   "metadata": {
    "collapsed": false,
    "scrolled": true
   },
   "outputs": [],
   "source": [
    "# here we load all the images and find their label from filename\n",
    "for f in files:\n",
    "    match = re.match(label_from_name, f)\n",
    "    if match:\n",
    "        label = match.groups()[0]\n",
    "        if label in labels:\n",
    "            data_labels.append(label)\n",
    "            data_images.append(imread(join(data_path, f), as_grey=True))      \n",
    "    else: \n",
    "        # if name does not match our regexp or label is not in the list\n",
    "        # of classes - not read from database\n",
    "        continue "
   ]
  },
  {
   "cell_type": "code",
   "execution_count": 88,
   "metadata": {
    "collapsed": false
   },
   "outputs": [],
   "source": [
    "im = data_images[0]"
   ]
  },
  {
   "cell_type": "code",
   "execution_count": 92,
   "metadata": {
    "collapsed": false,
    "scrolled": false
   },
   "outputs": [
    {
     "data": {
      "image/png": "[encoded data removed]",
      "text/plain": [
       "<matplotlib.figure.Figure at 0x7f8c99b7b518>"
      ]
     },
     "metadata": {},
     "output_type": "display_data"
    }
   ],
   "source": [
    "imshow(im)\n",
    "show()"
   ]
  },
  {
   "cell_type": "code",
   "execution_count": 101,
   "metadata": {
    "collapsed": true
   },
   "outputs": [],
   "source": [
    "def indexing(data):\n",
    "    \"\"\"This function vectorizes the images with our implemented indexing method.\"\"\"\n",
    "#   here we can include contour finding\n",
    "#   and all other things we do to find img description\n",
    "#   should return np.appay that is of the same size (?) for all images\n",
    "#   and each row represents image features\n",
    "#   so later we can just pass it to the classifier \n",
    "    pass"
   ]
  },
  {
   "cell_type": "code",
   "execution_count": 110,
   "metadata": {
    "collapsed": true
   },
   "outputs": [],
   "source": [
    "# Later we would do:"
   ]
  },
  {
   "cell_type": "code",
   "execution_count": 106,
   "metadata": {
    "collapsed": true
   },
   "outputs": [],
   "source": [
    "# X = indexing(data_images)\n",
    "# y = np.array(data_labels)"
   ]
  },
  {
   "cell_type": "code",
   "execution_count": 109,
   "metadata": {
    "collapsed": false
   },
   "outputs": [],
   "source": [
    "# clf = OneVsRestClassifier(GaussianNB())\n",
    "# clf.fit(X, y)"
   ]
  }
 ],
 "metadata": {
  "kernelspec": {
   "display_name": "IPython (Python 3)",
   "language": "python",
   "name": "python3"
  },
  "language_info": {
   "codemirror_mode": {
    "name": "ipython",
    "version": 3
   },
   "file_extension": ".py",
   "mimetype": "text/x-python",
   "name": "python",
   "nbconvert_exporter": "python",
   "pygments_lexer": "ipython3",
   "version": "3.5.1"
  }
 },
 "nbformat": 4,
 "nbformat_minor": 0
}
