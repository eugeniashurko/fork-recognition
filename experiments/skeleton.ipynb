{
 "cells": [
  {
   "cell_type": "markdown",
   "metadata": {},
   "source": [
    "## This draft contains reading of database properly"
   ]
  },
  {
   "cell_type": "code",
   "execution_count": 288,
   "metadata": {
    "collapsed": false
   },
   "outputs": [
    {
     "name": "stdout",
     "output_type": "stream",
     "text": [
      "Populating the interactive namespace from numpy and matplotlib\n"
     ]
    }
   ],
   "source": [
    "%pylab inline\n",
    "pylab.rcParams['figure.figsize'] = (20.0, 20.0)"
   ]
  },
  {
   "cell_type": "code",
   "execution_count": 2,
   "metadata": {
    "collapsed": false
   },
   "outputs": [],
   "source": [
    "import re\n",
    "\n",
    "from os import walk\n",
    "from os.path import join\n",
    "\n",
    "import numpy as np\n",
    "import matplotlib.pyplot as plt\n",
    "\n",
    "from skimage.io import imread, imshow, show"
   ]
  },
  {
   "cell_type": "code",
   "execution_count": 3,
   "metadata": {
    "collapsed": false
   },
   "outputs": [],
   "source": [
    "# Read classes from file\n",
    "labels = np.genfromtxt('../classes.csv', delimiter=',', dtype=str)\n",
    "# because of space after comma we read redundant empty column\n",
    "labels = np.array([l[0] for l in labels])"
   ]
  },
  {
   "cell_type": "code",
   "execution_count": 4,
   "metadata": {
    "collapsed": false
   },
   "outputs": [],
   "source": [
    "data_path = \"../database/\"\n",
    "files = list()\n",
    "for (dirpath, dirnames, filenames) in walk(data_path):\n",
    "    files = filenames    "
   ]
  },
  {
   "cell_type": "code",
   "execution_count": 5,
   "metadata": {
    "collapsed": true
   },
   "outputs": [],
   "source": [
    "data_images = list()\n",
    "data_labels = list()\n",
    "label_from_name = r\"([a-zA-z]+)[-_]\\d+.pgm\""
   ]
  },
  {
   "cell_type": "code",
   "execution_count": 6,
   "metadata": {
    "collapsed": false,
    "scrolled": true
   },
   "outputs": [],
   "source": [
    "# here we load all the images and find their label from filename\n",
    "for f in files:\n",
    "    match = re.match(label_from_name, f)\n",
    "    if match:\n",
    "        label = match.groups()[0]\n",
    "        if label in labels:\n",
    "            data_labels.append(label)\n",
    "            data_images.append(imread(join(data_path, f), as_grey=True))      \n",
    "    else: \n",
    "        # if name does not match our regexp or label is not in the list\n",
    "        # of classes - not read from database\n",
    "        continue "
   ]
  },
  {
   "cell_type": "code",
   "execution_count": 7,
   "metadata": {
    "collapsed": false
   },
   "outputs": [],
   "source": [
    "im = data_images[0]"
   ]
  },
  {
   "cell_type": "code",
   "execution_count": 8,
   "metadata": {
    "collapsed": false
   },
   "outputs": [
    {
     "data": {
      "text/plain": [
       "'key'"
      ]
     },
     "execution_count": 8,
     "metadata": {},
     "output_type": "execute_result"
    }
   ],
   "source": [
    "data_labels[0]"
   ]
  },
  {
   "cell_type": "code",
   "execution_count": 93,
   "metadata": {
    "collapsed": false,
    "scrolled": false
   },
   "outputs": [
    {
     "data": {
      "image/png": "[encoded data removed]",
      "text/plain": [
       "<matplotlib.figure.Figure at 0x7fab8073fe48>"
      ]
     },
     "metadata": {},
     "output_type": "display_data"
    }
   ],
   "source": [
    "imshow(im)\n",
    "show()"
   ]
  },
  {
   "cell_type": "code",
   "execution_count": 238,
   "metadata": {
    "collapsed": true
   },
   "outputs": [],
   "source": [
    "CONNECTIVITY_INC = {\n",
    "    4: {\n",
    "        0: (0, -1),\n",
    "        1: (-1, 0),\n",
    "        2: (0, 1),\n",
    "        3: (1, 0)\n",
    "    },\n",
    "    8: {\n",
    "        0: (0, -1),\n",
    "        1: (-1, -1),\n",
    "        2: (-1, 0),\n",
    "        3: (-1, 1),\n",
    "        4: (0, 1),\n",
    "        5: (1, 1),\n",
    "        6: (1, 0),\n",
    "        7: (1, -1),\n",
    "    }\n",
    "}"
   ]
  },
  {
   "cell_type": "code",
   "execution_count": 101,
   "metadata": {
    "collapsed": false
   },
   "outputs": [],
   "source": [
    "def pad_image(im, color=\"b\"):\n",
    "    if color == \"b\":\n",
    "        padded_im = np.array([np.concatenate([[0], row, [0]]) for row in im], dtype=np.uint8)\n",
    "        new_row = np.zeros((1, padded_im.shape[1]), dtype=np.uint8)\n",
    "        padded_im = np.concatenate([new_row, padded_im, new_row])\n",
    "    else:\n",
    "        raise ValueError(\"Padding is not implemented for thes color\")\n",
    "    return padded_im"
   ]
  },
  {
   "cell_type": "code",
   "execution_count": 271,
   "metadata": {
    "collapsed": false
   },
   "outputs": [],
   "source": [
    "def trace_border(im, connectivity=4):\n",
    "    border = list()\n",
    "    # we pad image by one pixel from all sides\n",
    "    # padding ensures us not to go out of domain\n",
    "#     padded_im = pad_image(im)\n",
    "    padded_im =\n",
    "    background_pixel = padded_im[0][0]\n",
    "    current_pixel = padded_im[0][0]\n",
    "    start = None\n",
    "    \n",
    "    # find starting pixel\n",
    "    for i in range(padded_im.shape[0]):\n",
    "        for j in range(padded_im.shape[1]):\n",
    "            if padded_im[i][j] != current_pixel:\n",
    "                start = (i, j)\n",
    "                border.append((i, j))\n",
    "                BB.append((i, j))\n",
    "                break\n",
    "        else:\n",
    "            continue \n",
    "            # executed if the loop ended normally (no break)\n",
    "        break \n",
    "        \n",
    "    # iterations of the algo\n",
    "    print(start)\n",
    "    current_pixel = start\n",
    "    direction = 0\n",
    "    print(\"Start iteration of the algorithm... \")\n",
    "    while (True):\n",
    "        if connectivity == 8:\n",
    "            i = (direction + 2) % 8\n",
    "            while i != (direction + 7) % 8:\n",
    "                next_pixel = (current_pixel[0] + CONNECTIVITY_INC[connectivity][i][0],\n",
    "                              current_pixel[1] + CONNECTIVITY_INC[connectivity][i][1])\n",
    "                if padded_im[next_pixel] != background_pixel:\n",
    "                    current_pixel = next_pixel\n",
    "                    border.append(current_pixel)\n",
    "                    BB.append(current_pixel)\n",
    "                    direction = (i + 4) % 8\n",
    "                    break\n",
    "                i = (i+1) % 8\n",
    "        elif connectivity == 4:\n",
    "            i = (direction + 1) % 4\n",
    "            while i != (direction + 4) % 8:\n",
    "                next_pixel = (current_pixel[0] + CONNECTIVITY_INC[connectivity][i][0],\n",
    "                              current_pixel[1] + CONNECTIVITY_INC[connectivity][i][1])\n",
    "                if padded_im[next_pixel] != background_pixel:\n",
    "                    current_pixel = next_pixel\n",
    "                    border.append(current_pixel)\n",
    "                    BB.append(current_pixel)\n",
    "                    direction = (i + 2) % 4\n",
    "                    break\n",
    "                i = (i+1) % 4\n",
    "        else:\n",
    "            raise ValueError(\"Invalid connectivity specified\")\n",
    "    # stop condition \n",
    "        if current_pixel == border[0]:\n",
    "            break\n",
    "            \n",
    "    # remove padding from image (it will influence border coordinates)\n",
    "    border = [(pixel[0] - 1, pixel[1] - 1) for pixel in border]\n",
    "    \n",
    "    return border"
   ]
  },
  {
   "cell_type": "code",
   "execution_count": 284,
   "metadata": {
    "collapsed": false,
    "scrolled": false
   },
   "outputs": [
    {
     "name": "stdout",
     "output_type": "stream",
     "text": [
      "(56, 173)\n",
      "Start iteration of the algorithm... \n"
     ]
    }
   ],
   "source": [
    "border = trace_border(im, connectivity=4)"
   ]
  },
  {
   "cell_type": "code",
   "execution_count": 279,
   "metadata": {
    "collapsed": false
   },
   "outputs": [
    {
     "data": {
      "text/plain": [
       "1073"
      ]
     },
     "execution_count": 279,
     "metadata": {},
     "output_type": "execute_result"
    }
   ],
   "source": [
    "len(border)"
   ]
  },
  {
   "cell_type": "code",
   "execution_count": 289,
   "metadata": {
    "collapsed": false
   },
   "outputs": [
    {
     "data": {
      "text/plain": [
       "[<matplotlib.lines.Line2D at 0x7fab50565588>]"
      ]
     },
     "execution_count": 289,
     "metadata": {},
     "output_type": "execute_result"
    },
    {
     "data": {
      "image/png": "[encoded data removed]",
      "text/plain": [
       "<matplotlib.figure.Figure at 0x7fab5058f358>"
      ]
     },
     "metadata": {},
     "output_type": "display_data"
    }
   ],
   "source": [
    "width = 12\n",
    "height = 12\n",
    "fig, ax = plt.subplots()\n",
    "ax.imshow(im, cmap=plt.cm.gray)\n",
    "\n",
    "ax.plot([b[1] for b in border], [b[0] for b in border], color=\"r\", linewidth=1)"
   ]
  },
  {
   "cell_type": "code",
   "execution_count": 101,
   "metadata": {
    "collapsed": true
   },
   "outputs": [],
   "source": [
    "def indexing(data):\n",
    "    \"\"\"This function vectorizes the images with our implemented indexing method.\"\"\"\n",
    "#   here we can include contour finding\n",
    "#   and all other things we do to find img description\n",
    "#   should return np.appay that is of the same size (?) for all images\n",
    "#   and each row represents image features\n",
    "#   so later we can just pass it to the classifier \n",
    "    pass"
   ]
  },
  {
   "cell_type": "code",
   "execution_count": 110,
   "metadata": {
    "collapsed": true
   },
   "outputs": [],
   "source": [
    "# Later we would do:"
   ]
  },
  {
   "cell_type": "code",
   "execution_count": 106,
   "metadata": {
    "collapsed": true
   },
   "outputs": [],
   "source": [
    "# X = indexing(data_images)\n",
    "# y = np.array(data_labels)"
   ]
  },
  {
   "cell_type": "code",
   "execution_count": 109,
   "metadata": {
    "collapsed": false
   },
   "outputs": [],
   "source": [
    "# clf = OneVsRestClassifier(GaussianNB())\n",
    "# clf.fit(X, y)"
   ]
  }
 ],
 "metadata": {
  "kernelspec": {
   "display_name": "IPython (Python 3)",
   "language": "python",
   "name": "python3"
  },
  "language_info": {
   "codemirror_mode": {
    "name": "ipython",
    "version": 3
   },
   "file_extension": ".py",
   "mimetype": "text/x-python",
   "name": "python",
   "nbconvert_exporter": "python",
   "pygments_lexer": "ipython3",
   "version": "3.5.1"
  }
 },
 "nbformat": 4,
 "nbformat_minor": 0
}
